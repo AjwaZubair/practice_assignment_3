{
 "cells": [
  {
   "cell_type": "markdown",
   "metadata": {},
   "source": [
    "# Q1:"
   ]
  },
  {
   "cell_type": "markdown",
   "metadata": {},
   "source": [
    "Think of at least three kinds of your favorite pizza. Store these pizza names in a list, and then use a for loop to print the name of each pizza."
   ]
  },
  {
   "cell_type": "code",
   "execution_count": 1,
   "metadata": {},
   "outputs": [
    {
     "name": "stdout",
     "output_type": "stream",
     "text": [
      "pepperoni\n",
      "chickren tikka\n",
      "margarita\n"
     ]
    }
   ],
   "source": [
    "my_list = [\"pepperoni\", \"chickren tikka\", \"margarita\"]\n",
    "for a in my_list:\n",
    "    print(a)"
   ]
  },
  {
   "cell_type": "markdown",
   "metadata": {},
   "source": [
    "# Q2"
   ]
  },
  {
   "cell_type": "markdown",
   "metadata": {},
   "source": [
    "Start with your last question , Modify your for loop to print a sentence using the name of the pizza\n",
    "instead of printing just the name of the pizza. For each pizza you should\n",
    "have one line of output containing a simple statement like I like pepperoni\n",
    "pizza."
   ]
  },
  {
   "cell_type": "code",
   "execution_count": 11,
   "metadata": {},
   "outputs": [
    {
     "name": "stdout",
     "output_type": "stream",
     "text": [
      "I love pepperoni pizza \n",
      "I love chickren tikka pizza \n",
      "I love margarita pizza \n"
     ]
    }
   ],
   "source": [
    "pizzas = [\"pepperoni\", \"chickren tikka\", \"margarita\"]\n",
    "for a in pizzas:\n",
    "    print(\"I love \" + a +  \" pizza \")\n",
    "    \n"
   ]
  },
  {
   "cell_type": "markdown",
   "metadata": {},
   "source": [
    "# Q3:"
   ]
  },
  {
   "cell_type": "markdown",
   "metadata": {},
   "source": [
    "Use a for loop to print the numbers from 1 to 20,\n",
    "inclusive."
   ]
  },
  {
   "cell_type": "code",
   "execution_count": 13,
   "metadata": {},
   "outputs": [
    {
     "name": "stdout",
     "output_type": "stream",
     "text": [
      "1\n",
      "2\n",
      "3\n",
      "4\n",
      "5\n",
      "6\n",
      "7\n",
      "8\n",
      "9\n",
      "10\n",
      "11\n",
      "12\n",
      "13\n",
      "14\n",
      "15\n",
      "16\n",
      "17\n",
      "18\n",
      "19\n",
      "20\n"
     ]
    }
   ],
   "source": [
    "for a in range(1,21):\n",
    "    print(a)"
   ]
  },
  {
   "cell_type": "markdown",
   "metadata": {},
   "source": [
    "# Q4:"
   ]
  },
  {
   "cell_type": "markdown",
   "metadata": {},
   "source": [
    "Use the third argument of the range() function to make a list\n",
    "of the odd numbers from 1 to 20. Use a for loop to print each number."
   ]
  },
  {
   "cell_type": "code",
   "execution_count": 20,
   "metadata": {},
   "outputs": [
    {
     "name": "stdout",
     "output_type": "stream",
     "text": [
      "1\n",
      "3\n",
      "5\n",
      "7\n",
      "9\n",
      "11\n",
      "13\n",
      "15\n",
      "17\n",
      "19\n"
     ]
    }
   ],
   "source": [
    "for a in range(1,21,2):\n",
    "    print(a)"
   ]
  },
  {
   "cell_type": "markdown",
   "metadata": {},
   "source": [
    "# Q5:"
   ]
  },
  {
   "cell_type": "markdown",
   "metadata": {},
   "source": [
    "Make a list of the multiples of 3 from 3 to 30. Use a for loop to\n",
    "print the numbers in your list."
   ]
  },
  {
   "cell_type": "code",
   "execution_count": 23,
   "metadata": {},
   "outputs": [
    {
     "name": "stdout",
     "output_type": "stream",
     "text": [
      "3\n",
      "6\n",
      "9\n",
      "12\n",
      "15\n",
      "18\n",
      "21\n",
      "24\n",
      "27\n",
      "30\n"
     ]
    }
   ],
   "source": [
    "for multiples_of_3 in range(1,11):\n",
    "    print(multiples_of_3 * 3)"
   ]
  },
  {
   "cell_type": "markdown",
   "metadata": {},
   "source": [
    "# Q6:"
   ]
  },
  {
   "cell_type": "markdown",
   "metadata": {},
   "source": [
    "A number raised to the third power is called a cube. For example,\n",
    "the cube of 2 is written as 2**3 in Python. Make a list of the first 10 cubes (that\n",
    "is, the cube of each integer from 1 through 10), and use a for loop to print out\n",
    "the value of each cube"
   ]
  },
  {
   "cell_type": "code",
   "execution_count": 1,
   "metadata": {},
   "outputs": [
    {
     "name": "stdout",
     "output_type": "stream",
     "text": [
      "1\n",
      "8\n",
      "27\n",
      "64\n",
      "125\n",
      "216\n",
      "343\n",
      "512\n",
      "729\n",
      "1000\n"
     ]
    }
   ],
   "source": [
    "for cube in range(1,11):\n",
    "    print(cube **3)"
   ]
  },
  {
   "cell_type": "markdown",
   "metadata": {},
   "source": [
    "# Q7:"
   ]
  },
  {
   "cell_type": "markdown",
   "metadata": {},
   "source": [
    "###### Make a python program that conatains your nine favourite dishes in a list called foods.\n",
    "\n",
    "###### Print the message, The first three items in the list are:. \n",
    "###### Then use a slice to print the first three items from that program’s list.\n",
    "\n",
    "###### Print the message, Three items from the middle of the list are:\n",
    "###### Use a slice to print three items from the middle of the list.\n",
    "\n",
    "###### Print the message, The last three items in the list are:\n",
    "###### Use a slice to print the last three items in the list."
   ]
  },
  {
   "cell_type": "code",
   "execution_count": 11,
   "metadata": {},
   "outputs": [
    {
     "name": "stdout",
     "output_type": "stream",
     "text": [
      "\n",
      "The first three items in the list are:\n",
      "  \n",
      "chowmain\n",
      "lasagna\n",
      "parmajan chicken\n",
      "\n",
      "The three items from the middle of the list are:\n",
      " \n",
      "pizza\n",
      "chicken chilli dry\n",
      "steak\n",
      "\n",
      "The last three items in the list are:\n",
      " \n",
      "BBQ\n",
      "fish tikka\n",
      "chicken karahi\n"
     ]
    }
   ],
   "source": [
    "foods = [\"chowmain\", \"lasagna\", \"parmajan chicken\", \"pizza\", \"chicken chilli dry\", \"steak\", \"BBQ\", \"fish tikka\", \"chicken karahi\"]\n",
    "print(\"\\nThe first three items in the list are:\\n  \")\n",
    "\n",
    "for dishes in foods[:3]:\n",
    "    print(dishes)\n",
    "    \n",
    "print(\"\\nThe three items from the middle of the list are:\\n \")\n",
    "\n",
    "for dishes in foods[3:6]:\n",
    "    print(dishes)\n",
    "    \n",
    "print(\"\\nThe last three items in the list are:\\n \")\n",
    "\n",
    "for dishes in foods[6:]:\n",
    "    print(dishes)\n",
    "    \n",
    "\n",
    "    \n",
    "    "
   ]
  },
  {
   "cell_type": "markdown",
   "metadata": {},
   "source": [
    "# Q8:"
   ]
  },
  {
   "cell_type": "markdown",
   "metadata": {},
   "source": [
    "### Start with your program from your last Question8.\n",
    "###### Make a copy of the list of foods, and call it friend_foods.\n",
    "###### Then, do the following:\n",
    "######    Add a new dish to the original list.\n",
    "######    Add a different dish to the list friend_foodss.\n",
    "######    Prove that you have two separate lists. \n",
    "###### Print the message, My favorite pizzas are: and then use a for loop to print the first list. \n",
    "###### Print the message,\n",
    "###### My friend’s favorite foods are:, and then use a for loop to print the second list.\n",
    "    \n",
    "##### NOTE: Make sure each new dish is stored in the appropriate list."
   ]
  },
  {
   "cell_type": "code",
   "execution_count": 13,
   "metadata": {},
   "outputs": [
    {
     "name": "stdout",
     "output_type": "stream",
     "text": [
      "\n",
      "My favourite foods are:\n",
      "\n",
      "chowmain\n",
      "lasagna\n",
      "parmajan chicken\n",
      "pizza\n",
      "chicken chilli dry\n",
      "steak\n",
      "BBQ\n",
      "fish tikka\n",
      "chicken karahi\n",
      "broast\n",
      "\n",
      "My friend's favourite foods are:\n",
      "\n",
      "chowmain\n",
      "lasagna\n",
      "parmajan chicken\n",
      "pizza\n",
      "chicken chilli dry\n",
      "steak\n",
      "BBQ\n",
      "fish tikka\n",
      "chicken karahi\n",
      "malai boti\n"
     ]
    }
   ],
   "source": [
    "my_foods = [\"chowmain\", \"lasagna\", \"parmajan chicken\", \"pizza\", \"chicken chilli dry\", \"steak\", \"BBQ\", \"fish tikka\", \"chicken karahi\"]\n",
    "friend_foods = my_foods.copy()\n",
    "\n",
    "my_foods.append(\"broast\")\n",
    "friend_foods.append(\"malai boti\")\n",
    "\n",
    "print(\"\\nMy favourite foods are:\\n\")\n",
    "for dishes in my_foods:\n",
    "    print(dishes)\n",
    "    \n",
    "print(\"\\nMy friend's favourite foods are:\\n\")\n",
    "for a in friend_foods:\n",
    "    print(a)"
   ]
  },
  {
   "cell_type": "markdown",
   "metadata": {},
   "source": [
    "# Q9:"
   ]
  },
  {
   "cell_type": "markdown",
   "metadata": {},
   "source": [
    "Take a user input from console line.Store it in a variable called Alien_color.\n",
    "\n",
    "If the alien’s color is red, print a statement that the player just earned 5 points for shooting the alien.\n",
    "\n",
    "If the alien’s color isn’t green, print a statement that the player just earned 10 points.\n",
    "\n",
    "If the alien's color isn't red or green , print a statment :, Alien is no more....."
   ]
  },
  {
   "cell_type": "code",
   "execution_count": 16,
   "metadata": {},
   "outputs": [
    {
     "name": "stdout",
     "output_type": "stream",
     "text": [
      "enter Alien color: red\n",
      "The player just earned 5 points for shooting the alien\n"
     ]
    }
   ],
   "source": [
    "alien_color = input(\"enter Alien color: \")\n",
    "if alien_color == \"red\":\n",
    "    print(\"The player just earned 5 points for shooting the alien\")\n",
    "elif alien_color != \"green\":\n",
    "    print(\"The player just earned 10 points\")\n",
    "else:\n",
    "    print(\"Alien is no more\")"
   ]
  },
  {
   "cell_type": "code",
   "execution_count": null,
   "metadata": {},
   "outputs": [],
   "source": []
  },
  {
   "cell_type": "code",
   "execution_count": null,
   "metadata": {},
   "outputs": [],
   "source": []
  },
  {
   "cell_type": "code",
   "execution_count": null,
   "metadata": {},
   "outputs": [],
   "source": []
  },
  {
   "cell_type": "markdown",
   "metadata": {},
   "source": [
    "# Q10:"
   ]
  },
  {
   "cell_type": "markdown",
   "metadata": {},
   "source": [
    "Write an if-elif-else chain that determines a person’s\n",
    "stage of life. Set a value for the variable age, and then:\n",
    "    \n",
    "•\t If the person is less than 2 years old, print a message that the person is a baby.\n",
    "\n",
    "•\t If the person is at least 2 years old but less than 4, print a message that the person is a toddler.\n",
    "\n",
    "•\t If the person is at least 4 years old but less than 13, print a message that the person is a kid.\n",
    "\n",
    "•\t If the person is at least 13 years old but less than 20, print a message that the person is a teenager.\n",
    "\n",
    "•\t If the person is at least 20 years old but less than 65, print a message that the person is an adult.\n",
    "\n",
    "•\t If the person is age 65 or older, print a message that the person is an elder."
   ]
  },
  {
   "cell_type": "code",
   "execution_count": 2,
   "metadata": {},
   "outputs": [
    {
     "name": "stdout",
     "output_type": "stream",
     "text": [
      "enter your age: 14\n",
      "The person is a TEENAGER\n"
     ]
    }
   ],
   "source": [
    "age = int(input(\"enter your age: \"))\n",
    "if age < 2:\n",
    "    print(\"The person is a BABY\")\n",
    "elif age >= 2 and age < 4:\n",
    "    print(\"The person is a TODDLER\")\n",
    "elif age >= 4 and age < 13:\n",
    "    print(\"The person is a KID\")\n",
    "elif age >= 13 and age < 20:\n",
    "    print(\"The person is a TEENAGER\")\n",
    "elif age >= 20 and age < 65:\n",
    "    print(\"The person is an ADULT\")\n",
    "else:\n",
    "    print(\"The person is an ELDER\")"
   ]
  },
  {
   "cell_type": "markdown",
   "metadata": {},
   "source": [
    "# Q11:"
   ]
  },
  {
   "cell_type": "markdown",
   "metadata": {},
   "source": [
    "Do the following to create a program that simulates how websites ensure that everyone has a unique username.\n",
    "\n",
    "•\t Make a list of five or more usernames called current_users.\n",
    "\n",
    "•\t Make another list of five usernames called new_users. \n",
    "Make sure one or two of the new usernames are also in the current_users list.\n",
    "\n",
    "•\t Loop through the new_users list to see if each new username has already been used. \n",
    "If it has, print a message that the person will need to enter a new username. \n",
    "If a username has not been used, print a message saying that the username is available.\n",
    "\n",
    "•\t Make sure your comparison is case insensitive. If 'John' has been used, 'JOHN' should not be accepted."
   ]
  },
  {
   "cell_type": "code",
   "execution_count": 7,
   "metadata": {},
   "outputs": [
    {
     "name": "stdout",
     "output_type": "stream",
     "text": [
      "user name 'Zainab' is available\n",
      "user name 'Hajra' is available\n",
      "username 'RIDA' should not be accepted.please enter new username.\n",
      "user name 'Areeb' is available\n",
      "user name 'Anaya' is available\n"
     ]
    }
   ],
   "source": [
    "current_users =['rida', 'noor', 'abul', 'nabeera', 'areeba']\n",
    "new_users = ['zainab', 'hajra', 'rida', 'areeb', 'anaya']\n",
    "for name in new_users:\n",
    "    if name in current_users:\n",
    "        x=name.upper()\n",
    "        print('username',\"'\"+x+\"'\",'should not be accepted.please enter new username.')\n",
    "    else:\n",
    "        y=name.title()\n",
    "        print('user name', \"'\"+y+\"'\",'is available')"
   ]
  },
  {
   "cell_type": "markdown",
   "metadata": {},
   "source": [
    "# Q12:"
   ]
  },
  {
   "cell_type": "markdown",
   "metadata": {},
   "source": [
    "Use a dictionary to store information about a person you know.\n",
    "Store their first name, last name, age, and the city in which they live. \n",
    "You should have keys such as first_name, last_name, age, and city. \n",
    "Print each piece of information stored in your dictionary"
   ]
  },
  {
   "cell_type": "code",
   "execution_count": 9,
   "metadata": {},
   "outputs": [],
   "source": [
    "person = {'first_name:':'rida', 'last_name:':'zubair', 'age:':'17', 'city:':'karachi' }"
   ]
  },
  {
   "cell_type": "code",
   "execution_count": 11,
   "metadata": {},
   "outputs": [
    {
     "data": {
      "text/plain": [
       "{'first_name:': 'rida',\n",
       " 'last_name:': 'zubair',\n",
       " 'age:': '17',\n",
       " 'city:': 'karachi'}"
      ]
     },
     "execution_count": 11,
     "metadata": {},
     "output_type": "execute_result"
    }
   ],
   "source": [
    "person"
   ]
  },
  {
   "cell_type": "code",
   "execution_count": 12,
   "metadata": {},
   "outputs": [
    {
     "name": "stdout",
     "output_type": "stream",
     "text": [
      "first_name: rida\n",
      "last_name: zubair\n",
      "age: 17\n",
      "city: karachi\n"
     ]
    }
   ],
   "source": [
    "for a,b in person.items():\n",
    "    print(a,b)"
   ]
  },
  {
   "cell_type": "code",
   "execution_count": null,
   "metadata": {},
   "outputs": [],
   "source": []
  },
  {
   "cell_type": "markdown",
   "metadata": {},
   "source": [
    "# Q13:"
   ]
  },
  {
   "cell_type": "markdown",
   "metadata": {},
   "source": [
    "Starts with your last question 12 , loop through the dictionary’s keys and values.\n",
    "When you’re sure that your loop works, add five more Python terms to your\n",
    "dictionary . When you run your program again, these new words and meanings\n",
    "should automatically be included in the output."
   ]
  },
  {
   "cell_type": "code",
   "execution_count": 13,
   "metadata": {},
   "outputs": [
    {
     "name": "stdout",
     "output_type": "stream",
     "text": [
      "first_name: rida\n",
      "last_name: zubair\n",
      "age: 17\n",
      "city: karachi\n"
     ]
    }
   ],
   "source": [
    "person = {'first_name:':'rida', 'last_name:':'zubair', 'age:':'17', 'city:':'karachi' }\n",
    "for a,b in person.items():\n",
    "    print(a,b)"
   ]
  },
  {
   "cell_type": "code",
   "execution_count": 14,
   "metadata": {},
   "outputs": [
    {
     "name": "stdout",
     "output_type": "stream",
     "text": [
      "first_name: rida\n",
      "last_name: zubair\n",
      "age: 17\n",
      "city: karachi\n",
      "print: print the statement\n",
      "input: scan any value\n",
      "if: condition\n",
      "else: other condition\n",
      "for: for loop\n"
     ]
    }
   ],
   "source": [
    "person[\"print:\"] = \"print the statement\"\n",
    "person[\"input:\"] = \"scan any value\"\n",
    "person[\"if:\"] = \"condition\"\n",
    "person[\"else:\"] = \"other condition\"\n",
    "person[\"for:\"] = \"for loop\"\n",
    "\n",
    "for a,b in person.items():\n",
    "    print(a,b)"
   ]
  },
  {
   "cell_type": "markdown",
   "metadata": {},
   "source": [
    "# Q14:"
   ]
  },
  {
   "cell_type": "markdown",
   "metadata": {},
   "source": [
    "Make a dictionary containing three major rivers and the country\n",
    "each river runs through. One key-value pair might be 'nile': 'egypt'.\n",
    "    \n",
    "    \n",
    "•\t Use a loop to print a sentence about each river, such as The Nile runs\n",
    "through Egypt.\n",
    "\n",
    "NOTE: use upper case through keys and values."
   ]
  },
  {
   "cell_type": "code",
   "execution_count": 16,
   "metadata": {},
   "outputs": [
    {
     "name": "stdout",
     "output_type": "stream",
     "text": [
      "The INDUS runs through PAKISTAN\n",
      "The NILE runs through EGYPT\n",
      "The NARMADA runs through INDIA\n"
     ]
    }
   ],
   "source": [
    "rivers = {'indus': 'pakistan', 'nile':'egypt','narmada':'india'}\n",
    "for a,b in rivers.items():\n",
    "    print('The',a.upper(), 'runs through',b.upper())"
   ]
  },
  {
   "cell_type": "markdown",
   "metadata": {},
   "source": [
    "# Q15:"
   ]
  },
  {
   "cell_type": "markdown",
   "metadata": {},
   "source": [
    "Make several dictionaries, where the name of each dictionary is the\n",
    "name of a pet. In each dictionary, include the kind of animal and the owner’s\n",
    "name. Store these dictionaries in a list called pets. Next, loop through your list\n",
    "and as you do print everything you know about each pet."
   ]
  },
  {
   "cell_type": "code",
   "execution_count": 17,
   "metadata": {},
   "outputs": [
    {
     "name": "stdout",
     "output_type": "stream",
     "text": [
      "kind: Mammal\n",
      "owner's_name: Rida\n",
      "\n",
      "kind: Mammal\n",
      "owner's_name: Noor\n",
      "\n",
      "kind: bird\n",
      "owner's_name: Ajwa\n",
      "\n",
      "kind: Mammal\n",
      "owner_name: Gulaboo\n",
      "\n"
     ]
    }
   ],
   "source": [
    "Wolf = {\"kind\": \"Mammal\", \"owner's_name\": \"Rida\"}\n",
    "\n",
    "Cow = {\"kind\": \"Mammal\",\"owner's_name\": \"Noor\"}\n",
    "\n",
    "Peacock = {\"kind\": \"bird\",\"owner's_name\": \"Ajwa\"}\n",
    "\n",
    "monkey = {\"kind\": \"Mammal\",\"owner_name\": \"Gulaboo\"}\n",
    "\n",
    "pets = [Wolf, Cow,Peacock,monkey]\n",
    "\n",
    "for pet in pets:\n",
    "    for key, value in pet.items():\n",
    "        print(key + \": \" + value)\n",
    "    print()"
   ]
  },
  {
   "cell_type": "code",
   "execution_count": null,
   "metadata": {},
   "outputs": [],
   "source": []
  }
 ],
 "metadata": {
  "kernelspec": {
   "display_name": "Python 3",
   "language": "python",
   "name": "python3"
  },
  "language_info": {
   "codemirror_mode": {
    "name": "ipython",
    "version": 3
   },
   "file_extension": ".py",
   "mimetype": "text/x-python",
   "name": "python",
   "nbconvert_exporter": "python",
   "pygments_lexer": "ipython3",
   "version": "3.7.3"
  }
 },
 "nbformat": 4,
 "nbformat_minor": 2
}
